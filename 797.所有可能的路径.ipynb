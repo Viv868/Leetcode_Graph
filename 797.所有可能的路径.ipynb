{
 "cells": [
  {
   "cell_type": "code",
   "execution_count": 2,
   "id": "451814fd",
   "metadata": {},
   "outputs": [
    {
     "data": {
      "text/plain": [
       "[[0, 1, 3], [0, 2, 3]]"
      ]
     },
     "execution_count": 2,
     "metadata": {},
     "output_type": "execute_result"
    }
   ],
   "source": [
    "def allPathsSourceTarget(graph):\n",
    "    x = 0\n",
    "    path = [0]\n",
    "    re = []\n",
    "    dfs(graph, x, path, re)\n",
    "    return re\n",
    "\n",
    "def dfs(graph, x, path, re):  \n",
    "    if x == len(graph)-1: \n",
    "        re.append(path[:])\n",
    "        return\n",
    "    \n",
    "    for i in range(len(graph[x])):\n",
    "        path.append(graph[x][i])\n",
    "        dfs(graph, graph[x][i], path, re)\n",
    "        path.pop()\n",
    "\n",
    "graph = [[1,2],[3],[3],[]]\n",
    "allPathsSourceTarget(graph)"
   ]
  }
 ],
 "metadata": {
  "kernelspec": {
   "display_name": "Python 3 (ipykernel)",
   "language": "python",
   "name": "python3"
  },
  "language_info": {
   "codemirror_mode": {
    "name": "ipython",
    "version": 3
   },
   "file_extension": ".py",
   "mimetype": "text/x-python",
   "name": "python",
   "nbconvert_exporter": "python",
   "pygments_lexer": "ipython3",
   "version": "3.9.19"
  }
 },
 "nbformat": 4,
 "nbformat_minor": 5
}
