{
 "cells": [
  {
   "cell_type": "code",
   "execution_count": 7,
   "id": "76e8dfb4",
   "metadata": {
    "scrolled": false
   },
   "outputs": [
    {
     "data": {
      "text/plain": [
       "4"
      ]
     },
     "execution_count": 7,
     "metadata": {},
     "output_type": "execute_result"
    }
   ],
   "source": [
    "#无向图，需要用标记位，标记着节点是否走过，否则就会死循环！（本题求得是长度而不是具体路径）\n",
    "from collections import deque\n",
    "    \n",
    "def ladderLength(beginWord, endWord, wordList):\n",
    "    wordset = set(wordList)\n",
    "    if endWord not in wordset or len(wordset) == 0: return 0\n",
    "    visited = {beginWord:1}  #记录每个单词的路径长度\n",
    "    queue = deque()\n",
    "    queue.append(beginWord)\n",
    "    \n",
    "    while queue:\n",
    "        word = queue.popleft()\n",
    "        path = visited[word]  #该word的路径长度\n",
    "        \n",
    "        for i in range(len(word)):\n",
    "            wordList = list(word)\n",
    "            for j in range(26):\n",
    "                wordList[i] = chr(ord('a') + j) #用ASCII码将wordList[i]分别替换长城26个字母，再组成新单词\n",
    "                newWord = \"\".join(wordList)\n",
    "                if newWord == endWord:\n",
    "                    return path+1\n",
    "                if newWord in wordset and newWord not in visited:\n",
    "                    visited[newWord] = path+1\n",
    "                    queue.append(newWord)                      \n",
    "    return 0\n",
    "                 \n",
    "               \n",
    "        \n",
    "beginWord = \"hbo\"\n",
    "endWord = \"qbx\"\n",
    "wordList = [\"abo\",\"hco\",\"hbw\",\"ado\",\"abq\",\"hcd\",\"hcj\",\"hww\",\"qbq\",\"qby\",\"qbz\",\"qbx\",\"qbw\"]\n",
    "ladderLength(beginWord, endWord, wordList)"
   ]
  },
  {
   "cell_type": "code",
   "execution_count": 8,
   "id": "4dab6c23",
   "metadata": {},
   "outputs": [
    {
     "data": {
      "text/plain": [
       "4"
      ]
     },
     "execution_count": 8,
     "metadata": {},
     "output_type": "execute_result"
    }
   ],
   "source": [
    "from collections import deque\n",
    "\n",
    "def isValid(cur, chooseWord):  #判断两个单词是否只有一个字母不同\n",
    "    count = 0\n",
    "    for i in range(len(cur)):\n",
    "        if cur[i] != chooseWord[i]:\n",
    "            count += 1\n",
    "    return count == 1\n",
    "    \n",
    "def ladderLength(beginWord, endWord, wordList):\n",
    "    wordset = set(wordList)  \n",
    "    if endWord not in wordset or len(wordset) == 0: return 0\n",
    "    \n",
    "    pathLeft = pathRight = 0\n",
    "    queueLeft = deque([beginWord]) #左右起点分别设置字典（记录已经访问过的节点）和队列\n",
    "    queueRight = deque([endWord])\n",
    "    mappingLeft = {beginWord:1} \n",
    "    mappingRight = {endWord:1}\n",
    "    \n",
    "    while queueLeft and queueRight:\n",
    "        for i in range(len(queueLeft)):\n",
    "            cur = queueLeft.popleft()\n",
    "            pathLeft = mappingLeft[cur]\n",
    "            if cur in mappingRight: \n",
    "                return mappingLeft[cur] + mappingRight[cur]-1\n",
    "            for chooseWord in wordset: #将wordset里面与cur只差一个字母的单词找出来依次加入队列\n",
    "                if chooseWord not in mappingLeft and isValid(cur, chooseWord):\n",
    "                    queueLeft.append(chooseWord)\n",
    "                    mappingLeft[chooseWord] = pathLeft + 1\n",
    "                    \n",
    "        \n",
    "        for i in range(len(queueRight)):\n",
    "            cur = queueRight.popleft()\n",
    "            pathRight = mappingRight[cur]\n",
    "            if cur in mappingLeft:\n",
    "                return mappingLeft[cur] + mappingRight[cur]-1\n",
    "            for chooseWord in wordset:\n",
    "                if chooseWord not in mappingRight and isValid(cur, chooseWord):\n",
    "                    queueRight.append(chooseWord)\n",
    "                    mappingRight[chooseWord] = pathRight + 1\n",
    "                   \n",
    "    return 0\n",
    "\n",
    "beginWord = \"hbo\"\n",
    "endWord = \"qbx\"\n",
    "wordList = [\"abo\",\"hco\",\"hbw\",\"ado\",\"abq\",\"hcd\",\"hcj\",\"hww\",\"qbq\",\"qby\",\"qbz\",\"qbx\",\"qbw\"] \n",
    "#beginWord = \"hit\"\n",
    "#endWord = \"cog\"\n",
    "#wordList = [\"hot\",\"dot\",\"dog\",\"lot\",\"log\",\"cog\"]\n",
    "ladderLength(beginWord, endWord, wordList)"
   ]
  }
 ],
 "metadata": {
  "kernelspec": {
   "display_name": "Python 3 (ipykernel)",
   "language": "python",
   "name": "python3"
  },
  "language_info": {
   "codemirror_mode": {
    "name": "ipython",
    "version": 3
   },
   "file_extension": ".py",
   "mimetype": "text/x-python",
   "name": "python",
   "nbconvert_exporter": "python",
   "pygments_lexer": "ipython3",
   "version": "3.9.19"
  }
 },
 "nbformat": 4,
 "nbformat_minor": 5
}
