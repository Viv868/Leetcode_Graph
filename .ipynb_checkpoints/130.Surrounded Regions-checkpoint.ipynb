{
 "cells": [
  {
   "cell_type": "code",
   "execution_count": 2,
   "id": "4af6ff05",
   "metadata": {},
   "outputs": [
    {
     "data": {
      "text/plain": [
       "[['X', 'X', 'X', 'X'],\n",
       " ['X', 'X', 'X', 'X'],\n",
       " ['X', 'X', 'X', 'X'],\n",
       " ['X', 'O', 'X', 'X']]"
      ]
     },
     "execution_count": 2,
     "metadata": {},
     "output_type": "execute_result"
    }
   ],
   "source": [
    "def dfs(board, dirs, x, y):\n",
    "    board[x][y] = 'A' #用A标记靠岸陆地及与其相连的陆地\n",
    "    for dx, dy in dirs:\n",
    "        nextx, nexty = x+dx, y+dy    \n",
    "        if nextx < 0 or nextx >= len(board) or nexty < 0 or nexty >= len(board[0]):\n",
    "            continue\n",
    "        if board[nextx][nexty] == 'O':\n",
    "            dfs(board, dirs, nextx, nexty)\n",
    "\n",
    "def solve(board):\n",
    "    dirs = [(0, 1), (0, -1), (1, 0), (-1, 0)]\n",
    "    m, n = len(board), len(board[0])\n",
    "    \n",
    "    for i in range(n):\n",
    "        if board[0][i] == 'O':\n",
    "            dfs(board, dirs, 0, i)\n",
    "        if board[-1][i] == 'O':\n",
    "            dfs(board, dirs, m-1, i)\n",
    "    \n",
    "    for i in range(m):\n",
    "        if board[i][0] == 'O':\n",
    "            dfs(board, dirs, i, 0)\n",
    "        if board[i][-1] == 'O':\n",
    "            dfs(board, dirs, i, n-1)\n",
    "      \n",
    "    for i in range(m):\n",
    "         for j in range(n):\n",
    "                if board[i][j] == 'O': #将离岸O变成x，将靠岸O（现在是A）变回O\n",
    "                    board[i][j] = 'X'\n",
    "                elif board[i][j] == 'A':\n",
    "                    board[i][j] = 'O'\n",
    "    return board\n",
    "    \n",
    "board = [[\"X\",\"X\",\"X\",\"X\"],[\"X\",\"O\",\"O\",\"X\"],[\"X\",\"X\",\"O\",\"X\"],[\"X\",\"O\",\"X\",\"X\"]]  \n",
    "solve(board)"
   ]
  }
 ],
 "metadata": {
  "kernelspec": {
   "display_name": "Python 3 (ipykernel)",
   "language": "python",
   "name": "python3"
  },
  "language_info": {
   "codemirror_mode": {
    "name": "ipython",
    "version": 3
   },
   "file_extension": ".py",
   "mimetype": "text/x-python",
   "name": "python",
   "nbconvert_exporter": "python",
   "pygments_lexer": "ipython3",
   "version": "3.9.19"
  }
 },
 "nbformat": 4,
 "nbformat_minor": 5
}
