{
 "cells": [
  {
   "cell_type": "code",
   "execution_count": 2,
   "id": "d2792d96",
   "metadata": {},
   "outputs": [
    {
     "data": {
      "text/plain": [
       "3"
      ]
     },
     "execution_count": 2,
     "metadata": {},
     "output_type": "execute_result"
    }
   ],
   "source": [
    "def numIslands(grid):\n",
    "    m, n = len(grid), len(grid[0])\n",
    "    visited = [[False] * n for _ in range(m)]\n",
    "    dirs = [(-1, 0), (0, 1), (1, 0), (0, -1)]  \n",
    "    re = 0\n",
    "    \n",
    "    def dfs(x, y): \n",
    "        for d in dirs:\n",
    "            nextx = x + d[0]\n",
    "            nexty = y + d[1]\n",
    "            if nextx < 0 or nextx >= m or nexty < 0 or nexty >= n:  \n",
    "                continue\n",
    "                \n",
    "            if not visited[nextx][nexty] and grid[nextx][nexty] == '1': \n",
    "                visited[nextx][nexty] = True\n",
    "                dfs(nextx, nexty)\n",
    "            \n",
    "    for i in range(m):\n",
    "        for j in range(n):\n",
    "            if grid[i][j] == '1' and not visited[i][j]:\n",
    "                visited[i][j] = True\n",
    "                re += 1\n",
    "                dfs(i, j)\n",
    "    return re\n",
    "\n",
    "grid = [[\"1\",\"1\",\"0\",\"0\",\"0\"],\n",
    "  [\"1\",\"1\",\"0\",\"0\",\"0\"],\n",
    "  [\"0\",\"0\",\"1\",\"0\",\"0\"],\n",
    "  [\"0\",\"0\",\"0\",\"1\",\"1\"]]\n",
    "\n",
    "numIslands(grid)"
   ]
  },
  {
   "cell_type": "code",
   "execution_count": 3,
   "id": "9c1ac12f",
   "metadata": {},
   "outputs": [
    {
     "data": {
      "text/plain": [
       "3"
      ]
     },
     "execution_count": 3,
     "metadata": {},
     "output_type": "execute_result"
    }
   ],
   "source": [
    "#Bfs\n",
    "from collections import deque\n",
    "\n",
    "def numIslands(grid):\n",
    "    m, n = len(grid), len(grid[0])\n",
    "    visited = [[False] * n for _ in range(m)]\n",
    "    dirs = [(-1, 0), (0, 1), (1, 0), (0, -1)]  # 四个方向\n",
    "    re = 0\n",
    "                \n",
    "    def dfs(x, y): \n",
    "        queue = deque()\n",
    "        queue.append((x, y))\n",
    "        while queue:\n",
    "            x, y = queue.popleft()\n",
    "            for d in dirs: \n",
    "                nextx, nexty = x + d[0], y + d[1]\n",
    "                if nextx < 0 or nextx >= m or nexty < 0 or nexty >= n: \n",
    "                    continue\n",
    "                if not visited[nextx][nexty] and grid[nextx][nexty] == '1':\n",
    "                    queue.append((nextx, nexty)) \n",
    "                    visited[nextx][nexty] = True \n",
    "                    \n",
    "    for i in range(m):\n",
    "        for j in range(n):\n",
    "            if not visited[i][j] and grid[i][j] == '1': #找到第一个等于’1‘的节点 \n",
    "                re += 1\n",
    "                dfs(i, j)\n",
    "                \n",
    "    return re\n",
    "\n",
    "grid = [[\"1\",\"1\",\"0\",\"0\",\"0\"],\n",
    "  [\"1\",\"1\",\"0\",\"0\",\"0\"],\n",
    "  [\"0\",\"0\",\"1\",\"0\",\"0\"],\n",
    "  [\"0\",\"0\",\"0\",\"1\",\"1\"]]\n",
    "\n",
    "numIslands(grid)"
   ]
  }
 ],
 "metadata": {
  "kernelspec": {
   "display_name": "Python 3 (ipykernel)",
   "language": "python",
   "name": "python3"
  },
  "language_info": {
   "codemirror_mode": {
    "name": "ipython",
    "version": 3
   },
   "file_extension": ".py",
   "mimetype": "text/x-python",
   "name": "python",
   "nbconvert_exporter": "python",
   "pygments_lexer": "ipython3",
   "version": "3.9.19"
  }
 },
 "nbformat": 4,
 "nbformat_minor": 5
}
