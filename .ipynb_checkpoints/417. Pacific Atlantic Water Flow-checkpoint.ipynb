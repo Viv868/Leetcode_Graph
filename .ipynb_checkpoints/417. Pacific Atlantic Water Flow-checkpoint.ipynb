{
 "cells": [
  {
   "cell_type": "code",
   "execution_count": 12,
   "id": "e99a7cd0",
   "metadata": {},
   "outputs": [
    {
     "data": {
      "text/plain": [
       "[[0, 4], [1, 3], [1, 4], [2, 2], [3, 3], [3, 4], [4, 4]]"
      ]
     },
     "execution_count": 12,
     "metadata": {},
     "output_type": "execute_result"
    }
   ],
   "source": [
    "\n",
    "#方法1：超时\n",
    "def dfs(heights, visited, dirs,x, y):\n",
    "    if visited[x][y]:return   \n",
    "    visited[x][y] = True\n",
    "    for dx, dy in dirs:\n",
    "        nextx, nexty = x + dx, y + dy\n",
    "        \n",
    "        if nextx < 0 or nextx >= len(heights) or nexty < 0 or nexty >= len(heights[0]):\n",
    "            continue\n",
    "        if heights[nextx][nexty] <= heights[x][y]:\n",
    "            dfs(heights, visited, dirs, nextx, nexty)\n",
    "    return\n",
    "\n",
    "def isResult(heights, dirs, x, y):  \n",
    "    visited = [[False] * len(heights[0]) for _ in range(len(heights))]\n",
    "    dfs(heights, visited, dirs,x, y)\n",
    "    isP = False\n",
    "    isA = False\n",
    "    \n",
    "    for i in range(len(heights)):\n",
    "        if visited[i][0]:\n",
    "            isP = True\n",
    "            break\n",
    "    \n",
    "    for i in range(len(heights[0])):\n",
    "        if visited[0][i]:\n",
    "            isP = True\n",
    "            break\n",
    "    \n",
    "    for i in range(len(heights)):\n",
    "        if visited[i][len(heights[0])-1]:\n",
    "            isA = True\n",
    "            break\n",
    "            \n",
    "    for i in range(len(heights[0])):\n",
    "        if visited[len(heights)-1][i]:\n",
    "            isP = True\n",
    "            break\n",
    "    \n",
    "    if isA and isP: return True\n",
    "    return False\n",
    "        \n",
    "\n",
    "def pacificAtlantic(heights):\n",
    "    re = []\n",
    "    m,n = len(heights), len(heights[0])\n",
    "    dirs = [(-1,0), (1,0), (0,1), (0,-1)]\n",
    "    \n",
    "    for i in range(m):\n",
    "        for j in range(n):\n",
    "            if isResult(heights, dirs, i, j):\n",
    "                re.append([i, j])\n",
    "    return re\n",
    "\n",
    "heights = [[1,2,2,3,5],[3,2,3,4,4],[2,4,5,3,1],[6,7,1,4,5],[5,1,1,2,4]]\n",
    "pacificAtlantic(heights)"
   ]
  },
  {
   "cell_type": "code",
   "execution_count": 15,
   "id": "0dedbdea",
   "metadata": {},
   "outputs": [
    {
     "data": {
      "text/plain": [
       "[[0, 4], [1, 3], [1, 4], [2, 2], [3, 0], [3, 1], [4, 0]]"
      ]
     },
     "execution_count": 15,
     "metadata": {},
     "output_type": "execute_result"
    }
   ],
   "source": [
    "#方法2：从太平洋边上的节点 逆流而上，将遍历过的节点都标记上。从大西洋的边上节点 逆流而上，将遍历过的节点也标记上\n",
    "#两方都标记过的节点就是既可以流太平洋也可以流大西洋的节点。\n",
    "\n",
    "dirs = [(-1,0), (1,0), (0,1), (0,-1)]\n",
    "def dfs(heights, visited, x, y):\n",
    "    global dirs\n",
    "    if visited[x][y]: return\n",
    "    visited[x][y] = 1\n",
    "    \n",
    "    for dx, dy in dirs:\n",
    "        nextx, nexty = x + dx, y + dy\n",
    "        \n",
    "        if nextx < 0 or nextx >= len(heights) or nexty < 0 or nexty >= len(heights[0]):\n",
    "            continue\n",
    "        if heights[nextx][nexty] >= heights[x][y]:\n",
    "            dfs(heights, visited, nextx, nexty)\n",
    "    \n",
    "\n",
    "def pacificAtlantic(heights):\n",
    "    re = []\n",
    "    m,n = len(heights), len(heights[0])\n",
    "    \n",
    "    pacific = [[0] * n for _ in range(m)]\n",
    "    atlantic = [[0] * n for _ in range(m)]\n",
    "    \n",
    "    for i in range(len(heights)):\n",
    "        dfs(heights, pacific, i, 0)\n",
    "        dfs(heights, atlantic, i, n-1)\n",
    "        \n",
    "    for i in range(len(heights[0])):\n",
    "        dfs(heights, pacific, 0, i)\n",
    "        dfs(heights, atlantic, m-1, i)\n",
    "        \n",
    "    for i in range(m):\n",
    "        for j in range(n):\n",
    "            if pacific[i][j] and atlantic[i][j]:\n",
    "                re.append([i, j])\n",
    "                \n",
    "    return re\n",
    "\n",
    "heights = [[1,2,2,3,5],[3,2,3,4,4],[2,4,5,3,1],[6,7,1,4,5],[5,1,1,2,4]]\n",
    "pacificAtlantic(heights)"
   ]
  }
 ],
 "metadata": {
  "kernelspec": {
   "display_name": "Python 3 (ipykernel)",
   "language": "python",
   "name": "python3"
  },
  "language_info": {
   "codemirror_mode": {
    "name": "ipython",
    "version": 3
   },
   "file_extension": ".py",
   "mimetype": "text/x-python",
   "name": "python",
   "nbconvert_exporter": "python",
   "pygments_lexer": "ipython3",
   "version": "3.9.19"
  }
 },
 "nbformat": 4,
 "nbformat_minor": 5
}
