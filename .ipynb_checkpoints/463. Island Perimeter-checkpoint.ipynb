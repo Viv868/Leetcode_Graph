{
 "cells": [
  {
   "cell_type": "code",
   "execution_count": 1,
   "id": "0eca4354",
   "metadata": {},
   "outputs": [
    {
     "data": {
      "text/plain": [
       "16"
      ]
     },
     "execution_count": 1,
     "metadata": {},
     "output_type": "execute_result"
    }
   ],
   "source": [
    "\n",
    "def islandPerimeter(grid):\n",
    "    m,n = len(grid), len(grid[0])\n",
    "    count = re = 0\n",
    "    for i in range(m):\n",
    "        for j in range(n):\n",
    "            if grid[i][j]:\n",
    "                count = 4\n",
    "                for nextx, nexty in [(i-1, j), (i+1, j), (i, j-1), (i, j+1)]:\n",
    "                    if nextx<0 or nextx>=m or nexty<0 or nexty>=n: continue\n",
    "                    if grid[nextx][nexty]: count -= 1\n",
    "                re += count\n",
    "                \n",
    "    return re\n",
    "\n",
    "grid = [[0,1,0,0],[1,1,1,0],[0,1,0,0],[1,1,0,0]]\n",
    "islandPerimeter(grid)"
   ]
  }
 ],
 "metadata": {
  "kernelspec": {
   "display_name": "Python 3 (ipykernel)",
   "language": "python",
   "name": "python3"
  },
  "language_info": {
   "codemirror_mode": {
    "name": "ipython",
    "version": 3
   },
   "file_extension": ".py",
   "mimetype": "text/x-python",
   "name": "python",
   "nbconvert_exporter": "python",
   "pygments_lexer": "ipython3",
   "version": "3.9.19"
  }
 },
 "nbformat": 4,
 "nbformat_minor": 5
}
