{
 "cells": [
  {
   "cell_type": "code",
   "execution_count": 1,
   "id": "46c79e3b",
   "metadata": {
    "scrolled": false
   },
   "outputs": [
    {
     "data": {
      "text/plain": [
       "15"
      ]
     },
     "execution_count": 1,
     "metadata": {},
     "output_type": "execute_result"
    }
   ],
   "source": [
    "from collections import defaultdict\n",
    "\n",
    "dirs = [(-1, 0), (1,0), (0,1), (0,-1)]\n",
    "area = 0\n",
    "Key = 2\n",
    "def dfs(grid, visited, x, y):\n",
    "    global dirs\n",
    "    global area\n",
    "    global Key\n",
    "    \n",
    "    for dx, dy in dirs:\n",
    "        nextx, nexty = x+dx, y+dy\n",
    "        if nextx < 0 or nextx >= len(grid) or nexty < 0 or nexty >= len(grid[0]):\n",
    "            continue\n",
    "        if not visited[nextx][nexty] and grid[nextx][nexty]:\n",
    "            visited[nextx][nexty] = True\n",
    "            grid[nextx][nexty] = Key\n",
    "            area += 1\n",
    "            dfs(grid, visited, nextx, nexty)\n",
    "    \n",
    "\n",
    "def largestIsland(grid):\n",
    "    global area\n",
    "    global Key\n",
    "    visited = [[False] * len(grid[0]) for _ in range(len(grid))]\n",
    "    m, n = len(grid), len(grid[0])\n",
    "    d = defaultdict(int) \n",
    "    maxArea = 0\n",
    "    \n",
    "    allLand = True\n",
    "    for i in range(m):  \n",
    "        for j in range(n):\n",
    "            if not grid[i][j]:\n",
    "                allLand = False\n",
    "            if not visited[i][j] and grid[i][j]:\n",
    "                visited[i][j] = True\n",
    "                area = 1\n",
    "                grid[i][j] = Key\n",
    "                dfs(grid, visited, i, j)\n",
    "                d[Key] = area\n",
    "                Key += 1\n",
    "    \n",
    "    if allLand:\n",
    "        return m * n    \n",
    "    \n",
    "    countArea = 0\n",
    "    used = set()  \n",
    "    for i in range(m):  \n",
    "        for j in range(n):\n",
    "            if not grid[i][j]:\n",
    "                countArea = 1  \n",
    "                used.clear()\n",
    "                for dx, dy in dirs: \n",
    "                    nextx, nexty = i+dx, j+dy\n",
    "                    if nextx < 0 or nextx >= len(grid) or nexty < 0 or nexty >= len(grid[0]):continue\n",
    "                    if grid[nextx][nexty] in used: continue\n",
    "                    used.add(grid[nextx][nexty])\n",
    "                    countArea += d[grid[nextx][nexty]]     \n",
    "            maxArea = max(maxArea, countArea)\n",
    "            \n",
    "    return maxArea\n",
    "\n",
    "grid = [[0,1,0,0,0,0,0,0], [1,1,1,0,0,0,1,1], [0,1,1,1,0,1,1,1], [0,0,0,0,1,0,0,0], [0,0,0,0,1,0,0,0], [0,0,1,0,0,0,0,0],\n",
    "       [0,1,1,0,0,1,1,0]]\n",
    "#grid = [[1, 0], [0, 1], [0,1]]\n",
    "largestIsland(grid)"
   ]
  }
 ],
 "metadata": {
  "kernelspec": {
   "display_name": "Python 3 (ipykernel)",
   "language": "python",
   "name": "python3"
  },
  "language_info": {
   "codemirror_mode": {
    "name": "ipython",
    "version": 3
   },
   "file_extension": ".py",
   "mimetype": "text/x-python",
   "name": "python",
   "nbconvert_exporter": "python",
   "pygments_lexer": "ipython3",
   "version": "3.9.19"
  }
 },
 "nbformat": 4,
 "nbformat_minor": 5
}
