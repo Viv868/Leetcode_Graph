{
 "cells": [
  {
   "cell_type": "code",
   "execution_count": 30,
   "id": "641ba806",
   "metadata": {
    "scrolled": false
   },
   "outputs": [
    {
     "data": {
      "text/plain": [
       "7"
      ]
     },
     "execution_count": 30,
     "metadata": {},
     "output_type": "execute_result"
    }
   ],
   "source": [
    "re = 0\n",
    "def dfs(grid, visited, dirs, x, y):\n",
    "    global re\n",
    "    for dx, dy in dirs:\n",
    "        nextx, nexty = x+dx, y+dy\n",
    "        if nextx < 0 or nextx >= len(grid) or nexty < 0 or nexty >= len(grid[0]):\n",
    "            continue\n",
    "        if not visited[nextx][nexty] and grid[nextx][nexty]:\n",
    "            re += 1\n",
    "            grid[nextx][nexty] = 0\n",
    "            visited[nextx][nexty] = True\n",
    "            dfs(grid, visited, dirs,nextx, nexty)\n",
    "    \n",
    "    \n",
    "def numEnclaves(grid):\n",
    "    global re\n",
    "    re = 0\n",
    "    visited = [[False] * len(grid[0]) for _ in range(len(grid))]\n",
    "    dirs = [(-1, 0), (1,0), (0,1), (0,-1)]\n",
    "    \n",
    "    for i in range(len(grid[0])):\n",
    "        if not visited[0][i] and grid[0][i]:\n",
    "            grid[0][i] = 0\n",
    "            visited[0][i] = True\n",
    "            dfs(grid, visited, dirs, 0, i)\n",
    "        \n",
    "        if not visited[-1][i] and grid[-1][i]:\n",
    "            grid[-1][i] = 0\n",
    "            visited[-1][i] = True\n",
    "            dfs(grid, visited, dirs, len(grid)-1, i)\n",
    "    \n",
    "    for i in range(len(grid)):\n",
    "        if not visited[i][0] and grid[i][0]:\n",
    "            grid[i][0] = 0\n",
    "            visited[i][0] = True\n",
    "            dfs(grid, visited, dirs, i, 0)\n",
    "        \n",
    "        if not visited[i][-1] and grid[i][-1]:\n",
    "            grid[i][-1] = 0\n",
    "            visited[i][-1] = True\n",
    "            dfs(grid, visited, dirs, i, len(grid[0])-1) \n",
    "    re = 0 \n",
    "    for i in range(len(grid)):\n",
    "        for j in range(len(grid[0])):\n",
    "            if not visited[i][j] and grid[i][j]:\n",
    "                re += 1 \n",
    "                visited[i][j] = True\n",
    "                dfs(grid, visited, dirs, i, j)\n",
    "        \n",
    "    return re\n",
    "   \n",
    "#grid = [[0,0,0,0],[1,0,1,0],[0,1,1,0],[0,0,0,0]] \n",
    "#grid = [[0,1,1,0],[0,0,1,0],[0,0,1,0],[0,0,0,0]]\n",
    "grid =[[0,0,1,1,1,0,1,1,1,0,1],[1,1,1,1,0,1,0,1,1,0,0],[0,1,0,1,1,0,0,0,0,1,0],[1,0,1,1,1,1,1,0,0,0,1],[0,0,1,0,1,1,0,0,1,0,0],\n",
    " [1,0,0,1,1,1,0,0,0,1,1],[0,1,0,1,1,0,0,0,1,0,0],[0,1,1,0,1,0,1,1,1,0,0],[1,1,0,1,1,1,0,0,0,0,0],[1,0,1,1,0,0,0,1,0,0,1]]\n",
    "numEnclaves(grid)"
   ]
  },
  {
   "cell_type": "code",
   "execution_count": 38,
   "id": "7c22d953",
   "metadata": {},
   "outputs": [
    {
     "name": "stdout",
     "output_type": "stream",
     "text": [
      "[[0, 0, 0, 0, 0, 0, 0, 0, 0, 0, 0], [0, 0, 0, 0, 0, 1, 0, 0, 0, 0, 0], [0, 0, 0, 0, 0, 0, 0, 0, 0, 1, 0], [0, 0, 0, 0, 0, 0, 0, 0, 0, 0, 0], [0, 0, 0, 0, 0, 0, 0, 0, 1, 0, 0], [0, 0, 0, 0, 0, 0, 0, 0, 0, 0, 0], [0, 0, 0, 0, 0, 0, 0, 0, 1, 0, 0], [0, 0, 0, 0, 0, 0, 1, 1, 1, 0, 0], [0, 0, 0, 0, 0, 0, 0, 0, 0, 0, 0], [0, 0, 0, 0, 0, 0, 0, 0, 0, 0, 0]]\n"
     ]
    },
    {
     "data": {
      "text/plain": [
       "7"
      ]
     },
     "execution_count": 38,
     "metadata": {},
     "output_type": "execute_result"
    }
   ],
   "source": [
    "#dfs，此题无需visited数组，用将为1的位置标记为0来代替visited数组的作用\n",
    "\n",
    "re = 0\n",
    "def dfs(grid, dirs, x, y):\n",
    "    global re\n",
    "    for dx, dy in dirs:\n",
    "        nextx, nexty = x+dx, y+dy    \n",
    "        if nextx < 0 or nextx >= len(grid) or nexty < 0 or nexty >= len(grid[0]):\n",
    "            continue\n",
    "        if grid[nextx][nexty]:\n",
    "            re += 1\n",
    "            grid[nextx][nexty] = 0\n",
    "            dfs(grid, dirs,nextx, nexty)\n",
    "    \n",
    "    \n",
    "def numEnclaves(grid):\n",
    "    global re\n",
    "    dirs = [(-1, 0), (1,0), (0,1), (0,-1)]\n",
    "    \n",
    "    for i in range(len(grid[0])): #开始遍历四条边，找出靠岸的岛屿\n",
    "        if grid[0][i]:\n",
    "            grid[0][i] = 0\n",
    "            dfs(grid,dirs, 0, i)\n",
    "        \n",
    "        if grid[-1][i]:\n",
    "            grid[-1][i] = 0\n",
    "            dfs(grid,dirs, len(grid)-1, i)\n",
    "    \n",
    "    for i in range(len(grid)):\n",
    "        if grid[i][0]:\n",
    "            grid[i][0] = 0\n",
    "            dfs(grid, dirs, i, 0)\n",
    "        \n",
    "        if grid[i][-1]:\n",
    "            grid[i][-1] = 0\n",
    "            dfs(grid, dirs, i, len(grid[0])-1) \n",
    "       \n",
    "    re = 0 \n",
    "    for i in range(len(grid)):\n",
    "        for j in range(len(grid[0])):\n",
    "            if grid[i][j]:\n",
    "                re += 1 \n",
    "                grid[i][j] = 0 \n",
    "                dfs(grid, dirs, i, j)\n",
    "        \n",
    "    return re\n",
    "\n",
    "grid =[[0,0,1,1,1,0,1,1,1,0,1],[1,1,1,1,0,1,0,1,1,0,0],[0,1,0,1,1,0,0,0,0,1,0],[1,0,1,1,1,1,1,0,0,0,1],[0,0,1,0,1,1,0,0,1,0,0],\n",
    " [1,0,0,1,1,1,0,0,0,1,1],[0,1,0,1,1,0,0,0,1,0,0],[0,1,1,0,1,0,1,1,1,0,0],[1,1,0,1,1,1,0,0,0,0,0],[1,0,1,1,0,0,0,1,0,0,1]]\n",
    "numEnclaves(grid)"
   ]
  },
  {
   "cell_type": "code",
   "execution_count": 40,
   "id": "228aaee4",
   "metadata": {},
   "outputs": [
    {
     "data": {
      "text/plain": [
       "7"
      ]
     },
     "execution_count": 40,
     "metadata": {},
     "output_type": "execute_result"
    }
   ],
   "source": [
    "#Bfs\n",
    "from collections import deque\n",
    "\n",
    "re = 0\n",
    "def bfs(grid, dirs, x, y):\n",
    "    global re\n",
    "    queue = deque()\n",
    "    queue.append((x, y))\n",
    "    while queue:\n",
    "        x, y = queue.popleft()\n",
    "        for d in dirs: \n",
    "            nextx, nexty = x + d[0], y + d[1]\n",
    "            if nextx < 0 or nextx >= len(grid) or nexty < 0 or nexty >= len(grid[0]): \n",
    "                continue\n",
    "            if grid[nextx][nexty]:\n",
    "                queue.append((nextx, nexty))\n",
    "                grid[nextx][nexty] = 0\n",
    "                re += 1\n",
    "    \n",
    "\n",
    "def numEnclaves(grid):\n",
    "    global re\n",
    "    dirs = [(-1, 0), (1,0), (0,1), (0,-1)]\n",
    "    \n",
    "    for i in range(len(grid[0])):\n",
    "        if grid[0][i]:\n",
    "            grid[0][i] = 0\n",
    "            bfs(grid,dirs, 0, i)\n",
    "        \n",
    "        if grid[-1][i]:\n",
    "            grid[-1][i] = 0\n",
    "            bfs(grid,dirs, len(grid)-1, i)\n",
    "    \n",
    "    for i in range(len(grid)):\n",
    "        if grid[i][0]:\n",
    "            grid[i][0] = 0\n",
    "            bfs(grid, dirs, i, 0)\n",
    "        \n",
    "        if grid[i][-1]:\n",
    "            grid[i][-1] = 0\n",
    "            bfs(grid, dirs, i, len(grid[0])-1) \n",
    "       \n",
    "    re = 0 \n",
    "    for i in range(len(grid)):\n",
    "        for j in range(len(grid[0])):\n",
    "            if grid[i][j]:\n",
    "                re += 1\n",
    "                grid[i][j] = 0  \n",
    "                bfs(grid, dirs, i, j)\n",
    "        \n",
    "    return re\n",
    "\n",
    "grid =[[0,0,1,1,1,0,1,1,1,0,1],[1,1,1,1,0,1,0,1,1,0,0],[0,1,0,1,1,0,0,0,0,1,0],[1,0,1,1,1,1,1,0,0,0,1],[0,0,1,0,1,1,0,0,1,0,0],\n",
    " [1,0,0,1,1,1,0,0,0,1,1],[0,1,0,1,1,0,0,0,1,0,0],[0,1,1,0,1,0,1,1,1,0,0],[1,1,0,1,1,1,0,0,0,0,0],[1,0,1,1,0,0,0,1,0,0,1]]\n",
    "numEnclaves(grid)"
   ]
  }
 ],
 "metadata": {
  "kernelspec": {
   "display_name": "Python 3 (ipykernel)",
   "language": "python",
   "name": "python3"
  },
  "language_info": {
   "codemirror_mode": {
    "name": "ipython",
    "version": 3
   },
   "file_extension": ".py",
   "mimetype": "text/x-python",
   "name": "python",
   "nbconvert_exporter": "python",
   "pygments_lexer": "ipython3",
   "version": "3.9.19"
  }
 },
 "nbformat": 4,
 "nbformat_minor": 5
}
