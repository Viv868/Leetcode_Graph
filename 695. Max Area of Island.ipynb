{
 "cells": [
  {
   "cell_type": "code",
   "execution_count": 20,
   "id": "07118ac2",
   "metadata": {},
   "outputs": [
    {
     "data": {
      "text/plain": [
       "4"
      ]
     },
     "execution_count": 20,
     "metadata": {},
     "output_type": "execute_result"
    }
   ],
   "source": [
    "\n",
    "#tip:同200.\n",
    "count = 0\n",
    "def dfs(grid, visited, dirs,x, y):\n",
    "    global count\n",
    "    for dx, dy in dirs:\n",
    "        nextx = x+dx\n",
    "        nexty = y+ dy\n",
    "        if nextx < 0 or nextx >= len(grid) or nexty < 0 or nexty >= len(grid[0]):\n",
    "            continue\n",
    "        if not visited[nextx][nexty] and grid[nextx][nexty] == 1:\n",
    "            count += 1\n",
    "            visited[nextx][nexty] = True\n",
    "            dfs(grid, visited, dirs,nextx, nexty)\n",
    "            \n",
    "def maxAreaOfIsland(grid):\n",
    "    if not grid: return 0\n",
    "    maxArea = 0\n",
    "    global count\n",
    "    m, n = len(grid), len(grid[0])\n",
    "    visited = [[False] * n for _ in range(m)]\n",
    "    dirs = [(-1, 0), (1,0), (0,1), (0,-1)]\n",
    "            \n",
    "    for i in range(m):\n",
    "         for j in range(n):\n",
    "                if not visited[i][j] and grid[i][j] == 1:\n",
    "                    visited[i][j] = True\n",
    "                    count = 1   #每发现新岛屿就记作1，在bfs中处理相邻陆地\n",
    "                    dfs(grid, visited, dirs, i, j)\n",
    "                    maxArea = max(count, maxArea)\n",
    "    return maxArea\n",
    "\n",
    "#grid = [[0,0,1,0,0,0,0,1,0,0,0,0,0],[0,0,0,0,0,0,0,1,1,1,0,0,0],[0,1,1,0,1,0,0,0,0,0,0,0,0],[0,1,0,0,1,1,0,0,1,0,1,0,0],\n",
    "#        [0,1,0,0,1,1,0,0,1,1,1,0,0],[0,0,0,0,0,0,0,0,0,0,1,0,0],[0,0,0,0,0,0,0,1,1,1,0,0,0],[0,0,0,0,0,0,0,1,1,0,0,0,0]]\n",
    "grid = [[1,1,0,0,0],[1,1,0,0,0],[0,0,0,1,1],[0,0,0,1,1]]\n",
    "maxAreaOfIsland(grid)"
   ]
  },
  {
   "cell_type": "code",
   "execution_count": 26,
   "id": "eb912a80",
   "metadata": {},
   "outputs": [
    {
     "data": {
      "text/plain": [
       "4"
      ]
     },
     "execution_count": 26,
     "metadata": {},
     "output_type": "execute_result"
    }
   ],
   "source": [
    "#dfs方法2，每发现新岛屿，count计数为0，在dfs中处理整个陆地\n",
    "\n",
    "count = 0\n",
    "def dfs(grid, visited, dirs,x, y):\n",
    "    global count\n",
    "    if visited[x][y] or grid[x][y] == 0: return #跳出递归条件\n",
    "    \n",
    "    visited[x][y] = True\n",
    "    count += 1\n",
    "    for dx, dy in dirs:\n",
    "        nextx = x+dx\n",
    "        nexty = y+ dy\n",
    "        if nextx < 0 or nextx >= len(grid) or nexty < 0 or nexty >= len(grid[0]):\n",
    "            continue\n",
    "        dfs(grid, visited, dirs,nextx, nexty)\n",
    "            \n",
    "def maxAreaOfIsland(grid):\n",
    "    if not grid: return 0\n",
    "    maxArea = 0\n",
    "    global count\n",
    "    m, n = len(grid), len(grid[0])\n",
    "    visited = [[False] * n for _ in range(m)]\n",
    "    dirs = [(-1, 0), (1,0), (0,1), (0,-1)]\n",
    "            \n",
    "    for i in range(m):\n",
    "         for j in range(n):\n",
    "                if not visited[i][j] and grid[i][j] == 1:\n",
    "                    count = 0   #每发现新岛屿就记作0，在bfs中处理整个陆地\n",
    "                    dfs(grid, visited, dirs, i, j)\n",
    "                    maxArea = max(count, maxArea)\n",
    "    return maxArea\n",
    "\n",
    "grid = [[1,1,0,0,0],[1,1,0,0,0],[0,0,0,1,1],[0,0,0,1,1]]\n",
    "maxAreaOfIsland(grid)"
   ]
  },
  {
   "cell_type": "code",
   "execution_count": 32,
   "id": "7aa2693c",
   "metadata": {},
   "outputs": [
    {
     "data": {
      "text/plain": [
       "4"
      ]
     },
     "execution_count": 32,
     "metadata": {},
     "output_type": "execute_result"
    }
   ],
   "source": [
    "#dfs优化，无需visited数组\n",
    "\n",
    "def dfs(grid, x, y):\n",
    "    if x < 0 or x >= len(grid) or y < 0 or y >= len(grid[0]) or grid[x][y] == 0:\n",
    "        return 0\n",
    "    grid[x][y] = 0  #淹没土地，防止后续被重复计算\n",
    "    \n",
    "    return  dfs(grid, x-1, y) + dfs(grid, x+1, y) + dfs(grid, x, y-1) + dfs(grid, x, y+1) + 1\n",
    "  \n",
    "\n",
    "def maxAreaOfIsland(grid):\n",
    "    if not grid: return 0\n",
    "    maxArea = 0\n",
    "    m, n = len(grid), len(grid[0])\n",
    "    \n",
    "    for i in range(m):\n",
    "         for j in range(n):\n",
    "                if grid[i][j] == 1: #每遇到一个岛屿就计算这个岛屿的面积同时”淹没“这个岛屿\n",
    "                    maxArea = max(dfs(grid, i, j), maxArea)\n",
    "    return maxArea\n",
    "\n",
    "grid = [[1,1,0,0,0],[1,1,0,0,0],[0,0,0,1,1],[0,0,0,1,1]]\n",
    "maxAreaOfIsland(grid)"
   ]
  },
  {
   "cell_type": "code",
   "execution_count": 24,
   "id": "3cbce8cb",
   "metadata": {},
   "outputs": [
    {
     "data": {
      "text/plain": [
       "6"
      ]
     },
     "execution_count": 24,
     "metadata": {},
     "output_type": "execute_result"
    }
   ],
   "source": [
    "#Bfs\n",
    "from collections import deque\n",
    "\n",
    "count = 0\n",
    "def bfs(grid, visited, dirs, x, y):\n",
    "    global count\n",
    "    queue = deque()\n",
    "    queue.append((x, y))\n",
    "    while queue:\n",
    "        x, y = queue.popleft()\n",
    "        for d in dirs: \n",
    "            nextx, nexty = x + d[0], y + d[1]\n",
    "            if nextx < 0 or nextx >= len(grid) or nexty < 0 or nexty >= len(grid[0]): \n",
    "                continue\n",
    "            if not visited[nextx][nexty] and grid[nextx][nexty] == 1:\n",
    "                queue.append((nextx, nexty)) \n",
    "                visited[nextx][nexty] = True\n",
    "                count += 1\n",
    "\n",
    "\n",
    "def maxAreaOfIsland(grid):\n",
    "    if not grid: return 0\n",
    "    \n",
    "    global count\n",
    "    maxArea = 0\n",
    "    m, n = len(grid), len(grid[0])\n",
    "    visited = [[False] * n for _ in range(m)]\n",
    "    dirs = [(-1, 0), (1,0), (0,1), (0,-1)]\n",
    "    \n",
    "    for i in range(m):\n",
    "         for j in range(n):\n",
    "                if not visited[i][j] and grid[i][j] == 1:\n",
    "                    visited[i][j] = True\n",
    "                    count = 1  \n",
    "                    bfs(grid, visited, dirs, i, j)\n",
    "                    maxArea = max(count, maxArea)\n",
    "    return maxArea\n",
    "\n",
    "#grid = [[1,1,0,0,0],[1,1,0,0,0],[0,0,0,1,1],[0,0,0,1,1]]\n",
    "grid = [[0,0,1,0,0,0,0,1,0,0,0,0,0],[0,0,0,0,0,0,0,1,1,1,0,0,0],[0,1,1,0,1,0,0,0,0,0,0,0,0],[0,1,0,0,1,1,0,0,1,0,1,0,0],\n",
    "       [0,1,0,0,1,1,0,0,1,1,1,0,0],[0,0,0,0,0,0,0,0,0,0,1,0,0],[0,0,0,0,0,0,0,1,1,1,0,0,0],[0,0,0,0,0,0,0,1,1,0,0,0,0]]\n",
    "maxAreaOfIsland(grid)"
   ]
  }
 ],
 "metadata": {
  "kernelspec": {
   "display_name": "Python 3 (ipykernel)",
   "language": "python",
   "name": "python3"
  },
  "language_info": {
   "codemirror_mode": {
    "name": "ipython",
    "version": 3
   },
   "file_extension": ".py",
   "mimetype": "text/x-python",
   "name": "python",
   "nbconvert_exporter": "python",
   "pygments_lexer": "ipython3",
   "version": "3.9.19"
  }
 },
 "nbformat": 4,
 "nbformat_minor": 5
}
