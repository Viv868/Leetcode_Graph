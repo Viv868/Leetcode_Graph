{
 "cells": [
  {
   "cell_type": "code",
   "execution_count": 8,
   "id": "78ad1b67",
   "metadata": {},
   "outputs": [
    {
     "data": {
      "text/plain": [
       "True"
      ]
     },
     "execution_count": 8,
     "metadata": {},
     "output_type": "execute_result"
    }
   ],
   "source": [
    "#dfs\n",
    "def dfs(rooms, visited, key):\n",
    "    if visited[key] == True: return \n",
    "    \n",
    "    visited[key] = True\n",
    "    keys = rooms[key]\n",
    "    \n",
    "    for key in keys:\n",
    "        dfs(rooms, visited, key)\n",
    "\n",
    "def canVisitAllRooms(rooms):\n",
    "    visited = [False for _ in range(len(rooms))]\n",
    "    dfs(rooms, visited, 0)\n",
    "    for each in visited:\n",
    "        if not each: return False\n",
    "    return True\n",
    "    \n",
    "#rooms = [[1,3],[3,0,1],[2],[0]]\n",
    "rooms = [[1],[2],[3],[]]\n",
    "canVisitAllRooms(rooms)"
   ]
  },
  {
   "cell_type": "code",
   "execution_count": 12,
   "id": "d96825c0",
   "metadata": {},
   "outputs": [
    {
     "data": {
      "text/plain": [
       "False"
      ]
     },
     "execution_count": 12,
     "metadata": {},
     "output_type": "execute_result"
    }
   ],
   "source": [
    "#Bfs\n",
    "from collections import deque\n",
    "\n",
    "def bfs(rooms, visited, key):\n",
    "    queue = deque([rooms[key]])\n",
    "    visited[key] = True\n",
    "    while queue:\n",
    "        keys = queue.popleft()\n",
    "        for key in keys:\n",
    "            if visited[key]: continue\n",
    "            queue.append(rooms[key])\n",
    "            visited[key] = True\n",
    "\n",
    "def canVisitAllRooms(rooms):\n",
    "    visited = [False for _ in range(len(rooms))]\n",
    "    bfs(rooms, visited, 0)\n",
    "    for each in visited:\n",
    "        if not each: return False\n",
    "    return True\n",
    "    \n",
    "rooms = [[1,3],[3,0,1],[2],[0]]\n",
    "#rooms = [[1],[2],[3],[]]\n",
    "canVisitAllRooms(rooms)"
   ]
  }
 ],
 "metadata": {
  "kernelspec": {
   "display_name": "Python 3 (ipykernel)",
   "language": "python",
   "name": "python3"
  },
  "language_info": {
   "codemirror_mode": {
    "name": "ipython",
    "version": 3
   },
   "file_extension": ".py",
   "mimetype": "text/x-python",
   "name": "python",
   "nbconvert_exporter": "python",
   "pygments_lexer": "ipython3",
   "version": "3.9.19"
  }
 },
 "nbformat": 4,
 "nbformat_minor": 5
}
