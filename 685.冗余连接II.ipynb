{
 "cells": [
  {
   "cell_type": "code",
   "execution_count": 4,
   "id": "79e0402b",
   "metadata": {},
   "outputs": [
    {
     "data": {
      "text/plain": [
       "[4, 1]"
      ]
     },
     "execution_count": 4,
     "metadata": {},
     "output_type": "execute_result"
    }
   ],
   "source": [
    "\n",
    "father = [i for i in range(1005)] #选择1005，要选择比题目中n的取值上限稍大的数值\n",
    "\n",
    "def find(u):\n",
    "    global father\n",
    "    if u == father[u]: return u\n",
    "    father[u] = find(father[u])\n",
    "    return father[u]\n",
    "\n",
    "def isSame(u, v):\n",
    "    u = find(u)\n",
    "    v = find(v)\n",
    "    return u == v\n",
    "\n",
    "def join(u, v):\n",
    "    global father\n",
    "    u = find(u)\n",
    "    v = find(v)\n",
    "    if u == v: return\n",
    "    father[v] = u\n",
    "    \n",
    "def getRemoveEdge(edges): #参考684写法\n",
    "    for i in range(len(edges)):\n",
    "        if isSame(edges[i][0], edges[i][1]):\n",
    "            return edges[i]\n",
    "        join(edges[i][0], edges[i][1])\n",
    "    return []\n",
    "               \n",
    "\n",
    "def isTreeAfterRemoveEdge(edges, delIndex):\n",
    "    for i in range(len(edges)):\n",
    "        if i == delIndex: continue\n",
    "        if isSame(edges[i][0], edges[i][1]): return False\n",
    "        join(edges[i][0], edges[i][1])\n",
    "    return True\n",
    "            \n",
    "\n",
    "def findRedundantDirectedConnection(edges):\n",
    "    inDegree = [0 for _ in range(1005)] #同于统计节点的入度\n",
    "    twoDegree = []\n",
    "    for i in range(len(edges)):  #统计edges中每个节点的入度，inDegree的index就是节点数值\n",
    "        inDegree[edges[i][1]] += 1 \n",
    "        \n",
    "    for i in range(len(edges)-1, -1, -1): #倒序遍历，优先删除靠后的边\n",
    "        if inDegree[edges[i][1]] == 2:\n",
    "            twoDegree.append(i)   \n",
    "    \n",
    "    if len(twoDegree):\n",
    "        if isTreeAfterRemoveEdge(edges, twoDegree[0]): \n",
    "            return edges[twoDegree[0]]\n",
    "        else: return edges[twoDegree[1]]\n",
    "    \n",
    "    return getRemoveEdge(edges) \n",
    "  \n",
    "\n",
    "edges = [[1,2],[1,3],[2,3]]\n",
    "edges = [[1,2],[2,3],[3,4],[4,1],[1,5]]\n",
    "findRedundantDirectedConnection(edges)"
   ]
  }
 ],
 "metadata": {
  "kernelspec": {
   "display_name": "Python 3 (ipykernel)",
   "language": "python",
   "name": "python3"
  },
  "language_info": {
   "codemirror_mode": {
    "name": "ipython",
    "version": 3
   },
   "file_extension": ".py",
   "mimetype": "text/x-python",
   "name": "python",
   "nbconvert_exporter": "python",
   "pygments_lexer": "ipython3",
   "version": "3.9.19"
  }
 },
 "nbformat": 4,
 "nbformat_minor": 5
}
