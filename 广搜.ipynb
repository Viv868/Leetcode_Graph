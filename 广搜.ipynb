{
 "cells": [
  {
   "cell_type": "code",
   "execution_count": null,
   "id": "e5202a69",
   "metadata": {},
   "outputs": [],
   "source": [
    "#广搜模板\n",
    "\n",
    "from collections import deque\n",
    "\n",
    "dir = [(0, 1), (1, 0), (-1, 0), (0, -1)] # 创建方向元素\n",
    "def bfs(grid, visited, x, y):\n",
    "    queue = deque() # 初始化队列\n",
    "    queue.append((x, y)) # 放入第一个元素/起点\n",
    "    visited[x][y] = True # 标记为访问过的节点\n",
    "  \n",
    "    while queue: # 遍历队列里的元素\n",
    "  \n",
    "        curx, cury = queue.popleft() # 取出第一个元素\n",
    "    \n",
    "        for dx, dy in dir: # 遍历四个方向\n",
    "            nextx, nexty = curx + dx, cury + dy\n",
    "            if nextx < 0 or nextx >= len(grid) or nexty < 0 or nexty >= len(grid[0]): # 越界了，直接跳过\n",
    "                continue\n",
    "        \n",
    "            if not visited[nextx][nexty]: # 如果节点没被访问过  \n",
    "                queue.append((nextx, nexty)) # 加入队列\n",
    "                visited[nextx][nexty] = True # 标记为访问过的节点"
   ]
  }
 ],
 "metadata": {
  "kernelspec": {
   "display_name": "Python 3 (ipykernel)",
   "language": "python",
   "name": "python3"
  },
  "language_info": {
   "codemirror_mode": {
    "name": "ipython",
    "version": 3
   },
   "file_extension": ".py",
   "mimetype": "text/x-python",
   "name": "python",
   "nbconvert_exporter": "python",
   "pygments_lexer": "ipython3",
   "version": "3.9.13"
  }
 },
 "nbformat": 4,
 "nbformat_minor": 5
}
