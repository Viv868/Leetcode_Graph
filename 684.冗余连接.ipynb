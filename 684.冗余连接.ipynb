{
 "cells": [
  {
   "cell_type": "code",
   "execution_count": 4,
   "id": "40432e5a",
   "metadata": {},
   "outputs": [
    {
     "data": {
      "text/plain": [
       "[1, 4]"
      ]
     },
     "execution_count": 4,
     "metadata": {},
     "output_type": "execute_result"
    }
   ],
   "source": [
    "father = [i for i in range(1005)]\n",
    "\n",
    "def find(u):\n",
    "    global father\n",
    "    if u == father[u]: return u\n",
    "    father[u] = find(father[u])\n",
    "    return father[u]\n",
    "\n",
    "def isSame(u, v):\n",
    "    u = find(u)\n",
    "    v = find(v)\n",
    "    return u == v\n",
    "\n",
    "def join(u, v):\n",
    "    global father\n",
    "    u = find(u)\n",
    "    v = find(v)\n",
    "    if u == v: return\n",
    "    father[v] = u\n",
    "\n",
    "def findRedundantConnection(edges):\n",
    "    for i in range(len(edges)):\n",
    "        if isSame(edges[i][0], edges[i][1]):  \n",
    "            return edges[i]\n",
    "        else:  \n",
    "            join(edges[i][0], edges[i][1])\n",
    "    return []\n",
    "\n",
    "edges = [[1,2],[2,3],[3,4],[1,4],[1,5]]\n",
    "findRedundantConnection(edges)"
   ]
  }
 ],
 "metadata": {
  "kernelspec": {
   "display_name": "Python 3 (ipykernel)",
   "language": "python",
   "name": "python3"
  },
  "language_info": {
   "codemirror_mode": {
    "name": "ipython",
    "version": 3
   },
   "file_extension": ".py",
   "mimetype": "text/x-python",
   "name": "python",
   "nbconvert_exporter": "python",
   "pygments_lexer": "ipython3",
   "version": "3.9.19"
  }
 },
 "nbformat": 4,
 "nbformat_minor": 5
}
